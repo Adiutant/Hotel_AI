{
 "cells": [
  {
   "cell_type": "markdown",
   "id": "fb659d72",
   "metadata": {},
   "source": [
    "# Запускайте отсюда, чтобы выполнить полный цикл обучения"
   ]
  },
  {
   "cell_type": "code",
   "execution_count": 1,
   "id": "63e34179",
   "metadata": {},
   "outputs": [
    {
     "name": "stdout",
     "output_type": "stream",
     "text": [
      "Defaulting to user installation because normal site-packages is not writeable\n",
      "Requirement already satisfied: tensorflow in /home/roman/.local/lib/python3.10/site-packages (2.16.1)\n",
      "Requirement already satisfied: astunparse>=1.6.0 in /home/roman/.local/lib/python3.10/site-packages (from tensorflow) (1.6.3)\n",
      "Requirement already satisfied: tensorboard<2.17,>=2.16 in /home/roman/.local/lib/python3.10/site-packages (from tensorflow) (2.16.2)\n",
      "Requirement already satisfied: h5py>=3.10.0 in /home/roman/.local/lib/python3.10/site-packages (from tensorflow) (3.10.0)\n",
      "Requirement already satisfied: numpy<2.0.0,>=1.23.5 in /home/roman/.local/lib/python3.10/site-packages (from tensorflow) (1.26.4)\n",
      "Requirement already satisfied: requests<3,>=2.21.0 in /usr/lib/python3/dist-packages (from tensorflow) (2.25.1)\n",
      "Requirement already satisfied: google-pasta>=0.1.1 in /home/roman/.local/lib/python3.10/site-packages (from tensorflow) (0.2.0)\n",
      "Requirement already satisfied: gast!=0.5.0,!=0.5.1,!=0.5.2,>=0.2.1 in /home/roman/.local/lib/python3.10/site-packages (from tensorflow) (0.5.4)\n",
      "Requirement already satisfied: typing-extensions>=3.6.6 in /usr/local/lib/python3.10/dist-packages (from tensorflow) (4.9.0)\n",
      "Requirement already satisfied: flatbuffers>=23.5.26 in /home/roman/.local/lib/python3.10/site-packages (from tensorflow) (24.3.7)\n",
      "Requirement already satisfied: keras>=3.0.0 in /home/roman/.local/lib/python3.10/site-packages (from tensorflow) (3.0.5)\n",
      "Requirement already satisfied: packaging in /home/roman/.local/lib/python3.10/site-packages (from tensorflow) (23.2)\n",
      "Requirement already satisfied: libclang>=13.0.0 in /home/roman/.local/lib/python3.10/site-packages (from tensorflow) (16.0.6)\n",
      "Requirement already satisfied: absl-py>=1.0.0 in /home/roman/.local/lib/python3.10/site-packages (from tensorflow) (2.1.0)\n",
      "Requirement already satisfied: tensorflow-io-gcs-filesystem>=0.23.1 in /home/roman/.local/lib/python3.10/site-packages (from tensorflow) (0.36.0)\n",
      "Requirement already satisfied: protobuf!=4.21.0,!=4.21.1,!=4.21.2,!=4.21.3,!=4.21.4,!=4.21.5,<5.0.0dev,>=3.20.3 in /home/roman/.local/lib/python3.10/site-packages (from tensorflow) (4.25.3)\n",
      "Requirement already satisfied: grpcio<2.0,>=1.24.3 in /home/roman/.local/lib/python3.10/site-packages (from tensorflow) (1.62.1)\n",
      "Requirement already satisfied: six>=1.12.0 in /usr/lib/python3/dist-packages (from tensorflow) (1.16.0)\n",
      "Requirement already satisfied: termcolor>=1.1.0 in /home/roman/.local/lib/python3.10/site-packages (from tensorflow) (2.4.0)\n",
      "Requirement already satisfied: setuptools in /usr/lib/python3/dist-packages (from tensorflow) (59.6.0)\n",
      "Requirement already satisfied: ml-dtypes~=0.3.1 in /home/roman/.local/lib/python3.10/site-packages (from tensorflow) (0.3.2)\n",
      "Requirement already satisfied: opt-einsum>=2.3.2 in /home/roman/.local/lib/python3.10/site-packages (from tensorflow) (3.3.0)\n",
      "Requirement already satisfied: wrapt>=1.11.0 in /home/roman/.local/lib/python3.10/site-packages (from tensorflow) (1.16.0)\n",
      "Requirement already satisfied: wheel<1.0,>=0.23.0 in /usr/lib/python3/dist-packages (from astunparse>=1.6.0->tensorflow) (0.37.1)\n",
      "Requirement already satisfied: dm-tree in /home/roman/.local/lib/python3.10/site-packages (from keras>=3.0.0->tensorflow) (0.1.8)\n",
      "Requirement already satisfied: rich in /home/roman/.local/lib/python3.10/site-packages (from keras>=3.0.0->tensorflow) (13.7.1)\n",
      "Requirement already satisfied: namex in /home/roman/.local/lib/python3.10/site-packages (from keras>=3.0.0->tensorflow) (0.0.7)\n",
      "Requirement already satisfied: markdown>=2.6.8 in /home/roman/.local/lib/python3.10/site-packages (from tensorboard<2.17,>=2.16->tensorflow) (3.5.2)\n",
      "Requirement already satisfied: werkzeug>=1.0.1 in /home/roman/.local/lib/python3.10/site-packages (from tensorboard<2.17,>=2.16->tensorflow) (3.0.1)\n",
      "Requirement already satisfied: tensorboard-data-server<0.8.0,>=0.7.0 in /home/roman/.local/lib/python3.10/site-packages (from tensorboard<2.17,>=2.16->tensorflow) (0.7.2)\n",
      "Requirement already satisfied: MarkupSafe>=2.1.1 in /home/roman/.local/lib/python3.10/site-packages (from werkzeug>=1.0.1->tensorboard<2.17,>=2.16->tensorflow) (2.1.5)\n",
      "Requirement already satisfied: markdown-it-py>=2.2.0 in /home/roman/.local/lib/python3.10/site-packages (from rich->keras>=3.0.0->tensorflow) (3.0.0)\n",
      "Requirement already satisfied: pygments<3.0.0,>=2.13.0 in /home/roman/.local/lib/python3.10/site-packages (from rich->keras>=3.0.0->tensorflow) (2.17.2)\n",
      "Requirement already satisfied: mdurl~=0.1 in /home/roman/.local/lib/python3.10/site-packages (from markdown-it-py>=2.2.0->rich->keras>=3.0.0->tensorflow) (0.1.2)\n",
      "Note: you may need to restart the kernel to use updated packages.\n"
     ]
    }
   ],
   "source": [
    "pip install tensorflow"
   ]
  },
  {
   "cell_type": "code",
   "execution_count": 2,
   "id": "0546a8c9",
   "metadata": {},
   "outputs": [
    {
     "name": "stdout",
     "output_type": "stream",
     "text": [
      "Defaulting to user installation because normal site-packages is not writeable\n",
      "Requirement already satisfied: scikit-learn==1.1.0 in /home/roman/.local/lib/python3.10/site-packages (1.1.0)\n",
      "Requirement already satisfied: joblib>=1.0.0 in /home/roman/.local/lib/python3.10/site-packages (from scikit-learn==1.1.0) (1.3.2)\n",
      "Requirement already satisfied: numpy>=1.17.3 in /home/roman/.local/lib/python3.10/site-packages (from scikit-learn==1.1.0) (1.26.4)\n",
      "Requirement already satisfied: threadpoolctl>=2.0.0 in /home/roman/.local/lib/python3.10/site-packages (from scikit-learn==1.1.0) (3.3.0)\n",
      "Requirement already satisfied: scipy>=1.3.2 in /home/roman/.local/lib/python3.10/site-packages (from scikit-learn==1.1.0) (1.12.0)\n",
      "Note: you may need to restart the kernel to use updated packages.\n"
     ]
    }
   ],
   "source": [
    "pip install -U scikit-learn==1.1.0"
   ]
  },
  {
   "cell_type": "code",
   "execution_count": 3,
   "id": "2cdfb544",
   "metadata": {},
   "outputs": [
    {
     "name": "stdout",
     "output_type": "stream",
     "text": [
      "Defaulting to user installation because normal site-packages is not writeable\n",
      "Requirement already satisfied: pandas in /home/roman/.local/lib/python3.10/site-packages (2.2.1)\n",
      "Requirement already satisfied: python-dateutil>=2.8.2 in /home/roman/.local/lib/python3.10/site-packages (from pandas) (2.8.2)\n",
      "Requirement already satisfied: numpy<2,>=1.22.4 in /home/roman/.local/lib/python3.10/site-packages (from pandas) (1.26.4)\n",
      "Requirement already satisfied: pytz>=2020.1 in /usr/lib/python3/dist-packages (from pandas) (2022.1)\n",
      "Requirement already satisfied: tzdata>=2022.7 in /home/roman/.local/lib/python3.10/site-packages (from pandas) (2024.1)\n",
      "Requirement already satisfied: six>=1.5 in /usr/lib/python3/dist-packages (from python-dateutil>=2.8.2->pandas) (1.16.0)\n",
      "Note: you may need to restart the kernel to use updated packages.\n"
     ]
    }
   ],
   "source": [
    "pip install pandas"
   ]
  },
  {
   "cell_type": "code",
   "execution_count": 4,
   "id": "d81738b0",
   "metadata": {},
   "outputs": [
    {
     "name": "stderr",
     "output_type": "stream",
     "text": [
      "2024-03-12 11:34:02.353928: I tensorflow/core/util/port.cc:113] oneDNN custom operations are on. You may see slightly different numerical results due to floating-point round-off errors from different computation orders. To turn them off, set the environment variable `TF_ENABLE_ONEDNN_OPTS=0`.\n",
      "2024-03-12 11:34:02.354172: I external/local_tsl/tsl/cuda/cudart_stub.cc:32] Could not find cuda drivers on your machine, GPU will not be used.\n",
      "2024-03-12 11:34:02.356061: I external/local_tsl/tsl/cuda/cudart_stub.cc:32] Could not find cuda drivers on your machine, GPU will not be used.\n",
      "2024-03-12 11:34:02.381332: I tensorflow/core/platform/cpu_feature_guard.cc:210] This TensorFlow binary is optimized to use available CPU instructions in performance-critical operations.\n",
      "To enable the following instructions: AVX2 AVX512F AVX512_VNNI FMA, in other operations, rebuild TensorFlow with the appropriate compiler flags.\n",
      "2024-03-12 11:34:02.823406: W tensorflow/compiler/tf2tensorrt/utils/py_utils.cc:38] TF-TRT Warning: Could not find TensorRT\n"
     ]
    }
   ],
   "source": [
    "import pandas as pd\n",
    "import numpy as np\n",
    "from tensorflow import config\n",
    "import keras\n",
    "from sklearn.model_selection import train_test_split\n",
    "from sklearn.preprocessing import StandardScaler, OneHotEncoder\n",
    "from sklearn.compose import ColumnTransformer\n",
    "from sklearn.pipeline import Pipeline\n",
    "from tensorflow.keras.models import Sequential\n",
    "from tensorflow.keras.layers import Dense, Input\n",
    "from tensorflow.keras.optimizers import Adam"
   ]
  },
  {
   "cell_type": "code",
   "execution_count": 5,
   "id": "77116438",
   "metadata": {},
   "outputs": [],
   "source": [
    "df = pd.read_csv('train.csv')"
   ]
  },
  {
   "cell_type": "code",
   "execution_count": 6,
   "id": "c489ccd4",
   "metadata": {},
   "outputs": [],
   "source": [
    "# Удаление ответа из тестовой выборки\n",
    "X = df.drop('is_canceled', axis=1)\n",
    "y = df['is_canceled']"
   ]
  },
  {
   "cell_type": "code",
   "execution_count": 7,
   "id": "3d336e75",
   "metadata": {},
   "outputs": [],
   "source": [
    "# Разделение на обучающий и тестовый наборы данных\n",
    "X_train, X_test, y_train, y_test = train_test_split(X, y, test_size=0.2, random_state=42)\n"
   ]
  },
  {
   "cell_type": "code",
   "execution_count": 8,
   "id": "803c3ea2",
   "metadata": {},
   "outputs": [
    {
     "name": "stdout",
     "output_type": "stream",
     "text": [
      "       0         1         2         3         4         5        6     \\\n",
      "0  2.268043 -0.221621  0.797619 -0.092391 -0.932961  0.256486 -1.44993   \n",
      "1 -0.748929 -0.221621 -0.816334 -0.320037 -0.932961 -0.265312  0.24612   \n",
      "2 -0.777662  1.194899  -1.54995 -0.661506  1.071494 -0.265312  0.24612   \n",
      "3 -0.174268 -0.221621  1.164427   0.70437  1.071494 -0.265312  0.24612   \n",
      "4  0.668569 -0.221621  0.137365 -0.320037 -0.932961  0.256486 -1.44993   \n",
      "\n",
      "       7         8         9     ...  1096  1097  1098  1099  1100  1101  \\\n",
      "0 -0.261927 -0.090203 -0.188395  ...     0     0     0     0     0     0   \n",
      "1 -0.261927 -0.090203 -0.188395  ...     0     0     0     0     0     0   \n",
      "2 -0.261927 -0.090203 -0.188395  ...     0     0     0     0     0     0   \n",
      "3 -0.261927 -0.090203 -0.188395  ...     0     0     0     0     0     0   \n",
      "4 -0.261927 -0.090203 -0.188395  ...     0     0     0     0     0     0   \n",
      "\n",
      "   1102  1103  1104  1105  \n",
      "0     0     0     0     0  \n",
      "1     0     0     0     0  \n",
      "2     0     0     0     0  \n",
      "3     0     0     0     0  \n",
      "4     0     0     0     0  \n",
      "\n",
      "[5 rows x 1106 columns]\n"
     ]
    }
   ],
   "source": [
    "# Предварительная обработка данных\n",
    "numeric_features = X.select_dtypes(include=['int64', 'float64']).columns\n",
    "categorical_features = X.select_dtypes(include=['object']).columns\n",
    "categories = []\n",
    "for column in categorical_features:\n",
    "    cat_arr = pd.Categorical(X_train[column]).categories\n",
    "    categories.append(cat_arr.tolist())\n",
    "encoder =OneHotEncoder(handle_unknown='ignore', categories=categories)\n",
    "numeric_transformer = Pipeline(steps=[\n",
    "    ('scaler', StandardScaler())\n",
    "])\n",
    "\n",
    "categorical_transformer = Pipeline(steps=[\n",
    "    ('onehot', encoder)\n",
    "])\n",
    "\n",
    "preprocessor = ColumnTransformer(\n",
    "    transformers=[\n",
    "        ('num', numeric_transformer, numeric_features),\n",
    "        ('cat', categorical_transformer, categorical_features)\n",
    "    ])\n",
    "\n",
    "X_train = pd.DataFrame.sparse.from_spmatrix(preprocessor.fit_transform(X_train))\n",
    "X_test = pd.DataFrame.sparse.from_spmatrix(preprocessor.transform(X_test))\n",
    "print(X_train.head())"
   ]
  },
  {
   "cell_type": "code",
   "execution_count": 9,
   "id": "d123a4e1",
   "metadata": {},
   "outputs": [
    {
     "name": "stderr",
     "output_type": "stream",
     "text": [
      "2024-03-12 11:34:03.651697: I external/local_xla/xla/stream_executor/cuda/cuda_executor.cc:998] successful NUMA node read from SysFS had negative value (-1), but there must be at least one NUMA node, so returning NUMA node zero. See more at https://github.com/torvalds/linux/blob/v6.0/Documentation/ABI/testing/sysfs-bus-pci#L344-L355\n",
      "2024-03-12 11:34:03.652386: W tensorflow/core/common_runtime/gpu/gpu_device.cc:2251] Cannot dlopen some GPU libraries. Please make sure the missing libraries mentioned above are installed properly if you would like to use GPU. Follow the guide at https://www.tensorflow.org/install/gpu for how to download and setup the required libraries for your platform.\n",
      "Skipping registering GPU devices...\n"
     ]
    }
   ],
   "source": [
    "# Создание модели нейронной сети\n",
    "model = Sequential([\n",
    "    Input((X_train.shape[1],)),\n",
    "    Dense(32, activation='relu'),\n",
    "    Dense(32, activation='relu'),\n",
    "    Dense(16, activation='relu'),\n",
    "    Dense(1, activation='sigmoid')\n",
    "])\n",
    "gpus = config.list_logical_devices('GPU')\n",
    "if gpus:\n",
    "    device(gpus[0].name)\n"
   ]
  },
  {
   "cell_type": "code",
   "execution_count": 10,
   "id": "69b32328",
   "metadata": {},
   "outputs": [],
   "source": [
    "model.compile(optimizer=Adam(), loss='binary_crossentropy', metrics=['accuracy'])"
   ]
  },
  {
   "cell_type": "code",
   "execution_count": 11,
   "id": "0d38f94b",
   "metadata": {},
   "outputs": [
    {
     "name": "stdout",
     "output_type": "stream",
     "text": [
      "Epoch 1/10\n",
      "\u001b[1m224/224\u001b[0m \u001b[32m━━━━━━━━━━━━━━━━━━━━\u001b[0m\u001b[37m\u001b[0m \u001b[1m1s\u001b[0m 1ms/step - accuracy: 0.7662 - loss: 0.4972 - val_accuracy: 0.8628 - val_loss: 0.3048\n",
      "Epoch 2/10\n",
      "\u001b[1m224/224\u001b[0m \u001b[32m━━━━━━━━━━━━━━━━━━━━\u001b[0m\u001b[37m\u001b[0m \u001b[1m0s\u001b[0m 895us/step - accuracy: 0.8729 - loss: 0.2929 - val_accuracy: 0.8880 - val_loss: 0.2679\n",
      "Epoch 3/10\n",
      "\u001b[1m224/224\u001b[0m \u001b[32m━━━━━━━━━━━━━━━━━━━━\u001b[0m\u001b[37m\u001b[0m \u001b[1m0s\u001b[0m 879us/step - accuracy: 0.8988 - loss: 0.2455 - val_accuracy: 0.8939 - val_loss: 0.2504\n",
      "Epoch 4/10\n",
      "\u001b[1m224/224\u001b[0m \u001b[32m━━━━━━━━━━━━━━━━━━━━\u001b[0m\u001b[37m\u001b[0m \u001b[1m0s\u001b[0m 777us/step - accuracy: 0.9148 - loss: 0.2099 - val_accuracy: 0.9049 - val_loss: 0.2360\n",
      "Epoch 5/10\n",
      "\u001b[1m224/224\u001b[0m \u001b[32m━━━━━━━━━━━━━━━━━━━━\u001b[0m\u001b[37m\u001b[0m \u001b[1m0s\u001b[0m 776us/step - accuracy: 0.9313 - loss: 0.1796 - val_accuracy: 0.9006 - val_loss: 0.2388\n",
      "Epoch 6/10\n",
      "\u001b[1m224/224\u001b[0m \u001b[32m━━━━━━━━━━━━━━━━━━━━\u001b[0m\u001b[37m\u001b[0m \u001b[1m0s\u001b[0m 1ms/step - accuracy: 0.9436 - loss: 0.1468 - val_accuracy: 0.9079 - val_loss: 0.2282\n",
      "Epoch 7/10\n",
      "\u001b[1m224/224\u001b[0m \u001b[32m━━━━━━━━━━━━━━━━━━━━\u001b[0m\u001b[37m\u001b[0m \u001b[1m0s\u001b[0m 808us/step - accuracy: 0.9581 - loss: 0.1181 - val_accuracy: 0.9146 - val_loss: 0.2322\n",
      "Epoch 8/10\n",
      "\u001b[1m224/224\u001b[0m \u001b[32m━━━━━━━━━━━━━━━━━━━━\u001b[0m\u001b[37m\u001b[0m \u001b[1m0s\u001b[0m 806us/step - accuracy: 0.9658 - loss: 0.0959 - val_accuracy: 0.9182 - val_loss: 0.2298\n",
      "Epoch 9/10\n",
      "\u001b[1m224/224\u001b[0m \u001b[32m━━━━━━━━━━━━━━━━━━━━\u001b[0m\u001b[37m\u001b[0m \u001b[1m0s\u001b[0m 781us/step - accuracy: 0.9751 - loss: 0.0725 - val_accuracy: 0.9154 - val_loss: 0.2503\n",
      "Epoch 10/10\n",
      "\u001b[1m224/224\u001b[0m \u001b[32m━━━━━━━━━━━━━━━━━━━━\u001b[0m\u001b[37m\u001b[0m \u001b[1m0s\u001b[0m 831us/step - accuracy: 0.9781 - loss: 0.0628 - val_accuracy: 0.9237 - val_loss: 0.2618\n"
     ]
    },
    {
     "data": {
      "text/plain": [
       "<keras.src.callbacks.history.History at 0x7da38011b160>"
      ]
     },
     "execution_count": 11,
     "metadata": {},
     "output_type": "execute_result"
    }
   ],
   "source": [
    "# Обучение модели\n",
    "model.fit(X_train, y_train, validation_split=0.2, epochs=10, batch_size=128)"
   ]
  },
  {
   "cell_type": "code",
   "execution_count": 12,
   "id": "fc562e03",
   "metadata": {},
   "outputs": [
    {
     "name": "stdout",
     "output_type": "stream",
     "text": [
      "\u001b[1m279/279\u001b[0m \u001b[32m━━━━━━━━━━━━━━━━━━━━\u001b[0m\u001b[37m\u001b[0m \u001b[1m0s\u001b[0m 304us/step - accuracy: 0.9185 - loss: 0.3123\n"
     ]
    },
    {
     "data": {
      "text/plain": [
       "[0.30325552821159363, 0.9173387289047241]"
      ]
     },
     "execution_count": 12,
     "metadata": {},
     "output_type": "execute_result"
    }
   ],
   "source": [
    "### Оценка модели на тестовых данных\n",
    "model.evaluate(X_test, y_test)"
   ]
  },
  {
   "cell_type": "markdown",
   "id": "b1225a0b",
   "metadata": {},
   "source": [
    "## Прогнозирование.\n",
    "### раскомментируйте и запускайте отсюда, чтобы не обучать модель, а использовать предобученную на предыдущих шагах"
   ]
  },
  {
   "cell_type": "code",
   "execution_count": 13,
   "id": "53250bdc",
   "metadata": {},
   "outputs": [],
   "source": [
    "#раскомментируйте и запускайте отсюда, чтобы не обучать модель, а использовать предобученную на предыдущих шагах\n",
    "#model = keras.models.load_model('hotel_model.keras')\n",
    "#model.load_weights('hotel_model.keras')\n",
    "test = pd.read_csv('test.csv')\n"
   ]
  },
  {
   "cell_type": "code",
   "execution_count": 14,
   "id": "ad297aee",
   "metadata": {},
   "outputs": [
    {
     "name": "stdout",
     "output_type": "stream",
     "text": [
      "<bound method NDFrame.head of            0         1         2         3         4         5         6     \\\n",
      "0     -0.462861 -0.232068  0.059016 -1.109345 -0.928225 -0.278773 -1.471895   \n",
      "1     -0.778393 -1.636235  1.182209  0.934735  1.073837   1.31727 -1.471895   \n",
      "2       0.56262  1.172099 -0.989298 -1.109345  1.073837  0.253241  0.199825   \n",
      "3      1.412805 -0.232068  0.583172  0.934735  0.072806  0.785255  0.199825   \n",
      "4       2.28052 -0.232068  1.182209  0.480495  0.072806  0.253241  0.199825   \n",
      "...         ...       ...       ...       ...       ...       ...       ...   \n",
      "23520  0.474972 -0.232068 -0.390262  0.821175  0.072806   1.31727  0.199825   \n",
      "23521 -1.067632 -0.232068  1.331968 -1.677145 -0.928225  0.253241 -1.471895   \n",
      "23522 -1.076396 -0.232068 -0.465141  0.026255  0.072806 -0.810787 -1.471895   \n",
      "23523  1.631925  1.172099 -1.288816 -1.222905  1.073837   1.31727  0.199825   \n",
      "23524  0.168204 -0.232068  0.358534 -1.677145  1.073837   1.31727  0.199825   \n",
      "\n",
      "           7         8         9     ...  1096  1097  1098  1099  1100  1101  \\\n",
      "0      -0.26411 -0.076003 -0.148861  ...     0     0     0     0     0     0   \n",
      "1      2.187815 -0.076003 -0.148861  ...     0     0     0     0     0     0   \n",
      "2      -0.26411 -0.076003 -0.148861  ...     0     0     0     0     0     0   \n",
      "3      -0.26411 -0.076003 -0.148861  ...     0     0     0     0     0     0   \n",
      "4      -0.26411 -0.076003 -0.148861  ...     0     0     0     0     0     0   \n",
      "...         ...       ...       ...  ...   ...   ...   ...   ...   ...   ...   \n",
      "23520  -0.26411 -0.076003 -0.148861  ...     0     0     0     0     0     0   \n",
      "23521  -0.26411 -0.076003  6.717697  ...     0     0     0     0     0     0   \n",
      "23522  -0.26411 -0.076003 -0.148861  ...     0     0     0     0     0     0   \n",
      "23523  -0.26411 -0.076003 -0.148861  ...     0     0     0     0     0     0   \n",
      "23524  -0.26411 -0.076003 -0.148861  ...     0     0     0     0     0     0   \n",
      "\n",
      "       1102  1103  1104  1105  \n",
      "0         0     0     0     0  \n",
      "1         0     0     0     0  \n",
      "2         0     0     0     0  \n",
      "3         0     0     0     0  \n",
      "4         0     0     0     0  \n",
      "...     ...   ...   ...   ...  \n",
      "23520     0     0     0     0  \n",
      "23521     0     0     0     0  \n",
      "23522     0     0     0     0  \n",
      "23523     0     0     0     0  \n",
      "23524     0     0     0     0  \n",
      "\n",
      "[23525 rows x 1106 columns]>\n"
     ]
    }
   ],
   "source": [
    "encoder =OneHotEncoder(handle_unknown='ignore', categories=categories)\n",
    "numeric_transformer = Pipeline(steps=[\n",
    "    ('scaler', StandardScaler())\n",
    "])\n",
    "\n",
    "categorical_transformer = Pipeline(steps=[\n",
    "    ('onehot', encoder)\n",
    "])\n",
    "\n",
    "preprocessor = ColumnTransformer(\n",
    "    transformers=[\n",
    "        ('num', numeric_transformer, numeric_features),\n",
    "        ('cat', categorical_transformer, categorical_features)\n",
    "    ])\n",
    "\n",
    "test_processed = pd.DataFrame.sparse.from_spmatrix(preprocessor.fit_transform(test))\n",
    "print(test_processed.head)"
   ]
  },
  {
   "cell_type": "code",
   "execution_count": 15,
   "id": "e56f886a",
   "metadata": {},
   "outputs": [
    {
     "name": "stdout",
     "output_type": "stream",
     "text": [
      "\u001b[1m736/736\u001b[0m \u001b[32m━━━━━━━━━━━━━━━━━━━━\u001b[0m\u001b[37m\u001b[0m \u001b[1m0s\u001b[0m 352us/step\n",
      "[[3.9719017e-03]\n",
      " [1.3061152e-04]\n",
      " [9.9587387e-01]\n",
      " ...\n",
      " [8.3510125e-01]\n",
      " [9.9906003e-01]\n",
      " [1.3924417e-03]]\n"
     ]
    }
   ],
   "source": [
    "result = model.predict(test_processed)\n",
    "print(result)\n",
    "#assert np.allclose(model.predict(test_processed), loaded_model.predict(test_processed))"
   ]
  },
  {
   "cell_type": "code",
   "execution_count": 16,
   "id": "c6d7647f",
   "metadata": {},
   "outputs": [
    {
     "name": "stdout",
     "output_type": "stream",
     "text": [
      "       index  is_canceled\n",
      "0          0            0\n",
      "1          1            0\n",
      "2          2            1\n",
      "3          3            0\n",
      "4          4            1\n",
      "...      ...          ...\n",
      "23520  23520            0\n",
      "23521  23521            0\n",
      "23522  23522            1\n",
      "23523  23523            1\n",
      "23524  23524            0\n",
      "\n",
      "[23525 rows x 2 columns]\n"
     ]
    }
   ],
   "source": [
    "result = pd.DataFrame(np.array([1 if yi > 0.5 else 0 for yi in result]), columns=['is_canceled'])\n",
    "result.reset_index(inplace= True )\n",
    "print(result)\n",
    "result.to_csv('example_result.csv', sep=',', index=False, header=True, encoding='utf-8')"
   ]
  },
  {
   "cell_type": "code",
   "execution_count": 17,
   "id": "d1957efa",
   "metadata": {},
   "outputs": [],
   "source": [
    "model.save('hotel_model.keras')"
   ]
  }
 ],
 "metadata": {
  "kernelspec": {
   "display_name": "Python 3 (ipykernel)",
   "language": "python",
   "name": "python3"
  },
  "language_info": {
   "codemirror_mode": {
    "name": "ipython",
    "version": 3
   },
   "file_extension": ".py",
   "mimetype": "text/x-python",
   "name": "python",
   "nbconvert_exporter": "python",
   "pygments_lexer": "ipython3",
   "version": "3.10.12"
  }
 },
 "nbformat": 4,
 "nbformat_minor": 5
}
